{
 "cells": [
  {
   "cell_type": "code",
   "execution_count": null,
   "metadata": {
    "ExecuteTime": {
     "start_time": "2019-10-12T16:36:32.808Z"
    }
   },
   "outputs": [],
   "source": [
    "import numpy as np\n",
    "import pandas as pd\n",
    "import matplotlib.pyplot as plt\n",
    "import seaborn as sns\n",
    "import rpy2\n",
    "\n",
    "# enables the %%R magic that can switch to R code model\n",
    "%load_ext rpy2.ipython"
   ]
  },
  {
   "cell_type": "code",
   "execution_count": null,
   "metadata": {
    "ExecuteTime": {
     "start_time": "2019-10-12T16:36:32.810Z"
    }
   },
   "outputs": [],
   "source": [
    "df = pd.read_csv('cookie_cats.csv')\n",
    "print(\"Number of rows of df is\", df.shape[0], 'and number of columns is', df.shape[1])\n"
   ]
  },
  {
   "cell_type": "markdown",
   "metadata": {},
   "source": [
    "## Data exploration\n",
    "\n",
    "### Missing values"
   ]
  },
  {
   "cell_type": "code",
   "execution_count": null,
   "metadata": {
    "ExecuteTime": {
     "start_time": "2019-10-12T16:36:32.812Z"
    }
   },
   "outputs": [],
   "source": [
    "# check missing values\n",
    "df.info()\n",
    "\n",
    "sns.heatmap(df.isnull())\n"
   ]
  },
  {
   "cell_type": "markdown",
   "metadata": {},
   "source": [
    "Both the summary and plot show that we do not have missing values in our dataset, which is good.\n",
    "\n",
    "### Distribution of game version\n",
    "Let's check the  values on each games version"
   ]
  },
  {
   "cell_type": "code",
   "execution_count": null,
   "metadata": {
    "ExecuteTime": {
     "start_time": "2019-10-12T16:36:32.813Z"
    }
   },
   "outputs": [],
   "source": [
    "# count of values in each group\n",
    "df.groupby('version').count()\n",
    "\n",
    "# plot the count plot\n",
    "sns.countplot(x = \"version\", data = df)"
   ]
  },
  {
   "cell_type": "markdown",
   "metadata": {},
   "source": [
    "The numbers of users of version gate_30 and gate_40 are pretty much equal. \n",
    "\n",
    "### Distribution of game rounds vs number of users\n",
    "\n",
    "\n"
   ]
  },
  {
   "cell_type": "code",
   "execution_count": null,
   "metadata": {
    "ExecuteTime": {
     "start_time": "2019-10-12T16:36:32.815Z"
    }
   },
   "outputs": [],
   "source": [
    "# count how many users that complete the sum gamerounds\n",
    "\n",
    "df_plot = df.groupby('sum_gamerounds').count().reset_index()\n",
    "df_plot.head()"
   ]
  },
  {
   "cell_type": "code",
   "execution_count": null,
   "metadata": {
    "ExecuteTime": {
     "start_time": "2019-10-12T16:36:32.817Z"
    }
   },
   "outputs": [],
   "source": [
    "%%R -i df \n",
    "# import df from global environment\n",
    "# make default figure size 5 by 5 inches with 200 dpi resolution\n",
    "\n",
    "#install.packages(\"ggplot2\", repos='http://cran.us.r-project.org', quiet=TRUE)\n",
    "library(ggplot2)\n",
    "ggplot(filter(df, sum_gamerounds <10000), aes(sum_gamerounds)) + geom_histogram()  + theme_bw()\n"
   ]
  },
  {
   "cell_type": "markdown",
   "metadata": {},
   "source": [
    "There are big portion of users do not play any rounds after installing the games."
   ]
  },
  {
   "cell_type": "code",
   "execution_count": null,
   "metadata": {
    "ExecuteTime": {
     "start_time": "2019-10-12T16:36:32.819Z"
    }
   },
   "outputs": [],
   "source": [
    "%%R -i df_plot \n",
    "# relationship between number of rounds vs number of users\n",
    "\n",
    "ggplot(filter(df_plot, sum_gamerounds <10000), aes(x = sum_gamerounds, y = userid)) + geom_point()\n",
    "\n",
    "ggplot(head(df_plot, 100), aes(x = sum_gamerounds, y = userid)) + geom_line(color = 'blue')"
   ]
  },
  {
   "cell_type": "markdown",
   "metadata": {},
   "source": [
    "## Data analysis\n",
    "\n",
    "### Version vs sum_gamerounds\n",
    "\n",
    "Let's explore what are the differences in total round of games between 2 versions of game"
   ]
  },
  {
   "cell_type": "code",
   "execution_count": null,
   "metadata": {
    "ExecuteTime": {
     "start_time": "2019-10-12T16:36:32.821Z"
    }
   },
   "outputs": [],
   "source": [
    "%%R -i df\n",
    "theme_set(theme_bw())\n",
    "\n",
    "ggplot(df, aes(version, sum_gamerounds)) + geom_boxplot(fill = 'light blue')"
   ]
  },
  {
   "cell_type": "markdown",
   "metadata": {
    "ExecuteTime": {
     "end_time": "2019-10-12T14:11:57.715831Z",
     "start_time": "2019-10-12T14:11:57.712111Z"
    }
   },
   "source": [
    "Clearly , there is a big outliers in our dataset. While most of users play less than 5000 rounds , there is one user plays 50000 rounds approximately.\n",
    "Let's remove it out of dataset we can have better clear of the population.\n"
   ]
  },
  {
   "cell_type": "code",
   "execution_count": null,
   "metadata": {
    "ExecuteTime": {
     "start_time": "2019-10-12T16:36:32.824Z"
    }
   },
   "outputs": [],
   "source": [
    "df = df[df['sum_gamerounds'] < 5000]"
   ]
  },
  {
   "cell_type": "code",
   "execution_count": null,
   "metadata": {
    "ExecuteTime": {
     "start_time": "2019-10-12T16:36:32.825Z"
    }
   },
   "outputs": [],
   "source": [
    "%%R -i df\n",
    "theme_set(theme_bw())\n",
    "# plot the boxplot and scale to see compare the median values\n",
    "ggplot(df, aes(version, sum_gamerounds)) + \n",
    "    geom_boxplot(fill = 'light blue')+ \n",
    "    scale_y_continuous() + \n",
    "    coord_cartesian(ylim = c(0, 100)) + \n",
    "    labs(title = 'Retention rate between Gate 30 and Gate 40')\n"
   ]
  },
  {
   "cell_type": "markdown",
   "metadata": {},
   "source": [
    "Based on the boxplot above, the median values of total game rounds in gate 30 is slighly higher than in gate 40.\n",
    "This measn that users tend to play more games (leading to higher rounds )in gate 30 than that of gate 40.\n",
    "\n",
    "\n",
    "### Retention  after one day\n",
    "Let's compute the average of retention after 1 day in overall, not taking into account the difference between gate 30 and gate 40."
   ]
  },
  {
   "cell_type": "code",
   "execution_count": null,
   "metadata": {
    "ExecuteTime": {
     "start_time": "2019-10-12T16:36:32.827Z"
    }
   },
   "outputs": [],
   "source": [
    "avg_1day = df['retention_1'].mean()\n",
    "print('The percentage of users come back and play game (retention == True) after one day is:', round(avg_1day*100, 2), '%')"
   ]
  },
  {
   "cell_type": "code",
   "execution_count": null,
   "metadata": {
    "ExecuteTime": {
     "start_time": "2019-10-12T16:36:32.829Z"
    }
   },
   "outputs": [],
   "source": [
    "%%R -i df\n",
    "theme_set(theme_bw())\n",
    "# plot the boxplot and scale to see compare the median values\n",
    "ggplot(df) + \n",
    "    geom_bar(aes(x = version, fill = retention_1), position = 'fill') +\n",
    "    ggtitle('Retention rates differences between gate 30 and gate 40 after 1 day')"
   ]
  },
  {
   "cell_type": "code",
   "execution_count": null,
   "metadata": {
    "ExecuteTime": {
     "start_time": "2019-10-12T16:36:32.830Z"
    }
   },
   "outputs": [],
   "source": [
    "avg_1day_group = df.groupby('version')['retention_1'].mean()\n",
    "print('Average of users come back and play game in version 30 is:', round(avg_1day_group[0]*100, 2),'%')\n",
    "print('Average of users come back and play game in version 40 is:', round(avg_1day_group[1]*100, 2),'%')"
   ]
  },
  {
   "cell_type": "markdown",
   "metadata": {},
   "source": [
    "Based on the above, the retention of version 30 is slightly higher than version 40.\n",
    "\n",
    "Let's check the total of game rounds when retention of day 1 is True for both gate 30 and gate 40"
   ]
  },
  {
   "cell_type": "code",
   "execution_count": null,
   "metadata": {
    "ExecuteTime": {
     "start_time": "2019-10-12T16:36:32.832Z"
    }
   },
   "outputs": [],
   "source": [
    "# filter gate 30 dataset\n",
    "gate_30 = df[df['version'] == 'gate_30']\n",
    "gate_30_rounds_True = gate_30[gate_30['retention_1'] == True]['sum_gamerounds'].sum() / gate_30['sum_gamerounds'].sum()\n",
    "\n",
    "# filter gate 40 dataset\n",
    "gate_40 = df[df['version'] == 'gate_40']\n",
    "gate_40_rounds_True = gate_40[gate_40['retention_1'] == True]['sum_gamerounds'].sum() / gate_40['sum_gamerounds'].sum()\n",
    "\n",
    "# compare the game rounds when retention is YTrue for both games\n",
    "print(r'In addition to retention is higher in gate 30, users tent to play more game rounds in gate 30 too?', gate_30_rounds_True > gate_40_rounds_True)"
   ]
  },
  {
   "cell_type": "markdown",
   "metadata": {
    "ExecuteTime": {
     "end_time": "2019-10-12T14:51:03.742612Z",
     "start_time": "2019-10-12T14:51:03.739837Z"
    }
   },
   "source": [
    "### Retention  after seven days"
   ]
  },
  {
   "cell_type": "code",
   "execution_count": null,
   "metadata": {
    "ExecuteTime": {
     "start_time": "2019-10-12T16:36:32.834Z"
    }
   },
   "outputs": [],
   "source": [
    "df.groupby('version')['retention_7'].mean()"
   ]
  },
  {
   "cell_type": "code",
   "execution_count": null,
   "metadata": {
    "ExecuteTime": {
     "start_time": "2019-10-12T16:36:32.836Z"
    }
   },
   "outputs": [],
   "source": [
    "%%R -i df\n",
    "theme_set(theme_bw())\n",
    "# plot the boxplot and scale to see compare the median values\n",
    "ggplot(df) + \n",
    "    geom_bar(aes(x = version, fill = retention_7), position = 'fill') +\n",
    "    ggtitle('Retention rates differences between gate 30 and gate 40 after 7 days')"
   ]
  },
  {
   "cell_type": "markdown",
   "metadata": {},
   "source": [
    "From the above, we could see albeit small, the rention rate of gate 30 is still higher than that of gate 40.\n",
    "Let's double check the total rounds that user play."
   ]
  },
  {
   "cell_type": "code",
   "execution_count": null,
   "metadata": {
    "ExecuteTime": {
     "start_time": "2019-10-12T16:36:32.838Z"
    }
   },
   "outputs": [],
   "source": [
    "# filter gate 30 dataset\n",
    "gate_30 = df[df['version'] == 'gate_30']\n",
    "gate_30_rounds_True = gate_30[gate_30['retention_7'] == True]['sum_gamerounds'].sum() / gate_30['sum_gamerounds'].sum()\n",
    "\n",
    "# filter gate 40 dataset\n",
    "gate_40 = df[df['version'] == 'gate_40']\n",
    "gate_40_rounds_True = gate_40[gate_40['retention_7'] == True]['sum_gamerounds'].sum() / gate_40['sum_gamerounds'].sum()\n",
    "\n",
    "# compare the game rounds when retention is YTrue for both games\n",
    "print(r'In addition to retention is higher in gate 30, users tent to play more game rounds in gate 30?', gate_30_rounds_True > gate_40_rounds_True)"
   ]
  },
  {
   "cell_type": "markdown",
   "metadata": {},
   "source": [
    "## Boostrap resampling to confirm the difference\n",
    "\n",
    "Boostrap is a technique to measure the certaintly of a given conclusion. In other words, if we conclude that retention rate is higher in gate 30 than gate 40, we might want to repeat the process of quantify the analyze the difference between 2 gates on many samples.\n",
    "If the results return the same after many boostrap resamples, we could conclude that the result is certain.\n",
    "\n",
    "### Boostrap resampling  retention day 1"
   ]
  },
  {
   "cell_type": "code",
   "execution_count": null,
   "metadata": {
    "ExecuteTime": {
     "start_time": "2019-10-12T16:36:32.840Z"
    }
   },
   "outputs": [],
   "source": [
    "# Creating a list with bootstrapped means for each AB-group (i.e. game version)\n",
    "boot_1 = []\n",
    "for i in range(5000):\n",
    "    boot_mean = df.sample(frac = 0.3, replace = True).groupby('version')['retention_1'].mean()\n",
    "    boot_1.append(boot_mean)\n",
    "    \n",
    "# Transforming the list to a DataFrame\n",
    "boot_1 = pd.DataFrame(boot_1)\n",
    "    "
   ]
  },
  {
   "cell_type": "code",
   "execution_count": null,
   "metadata": {
    "ExecuteTime": {
     "start_time": "2019-10-12T16:36:32.842Z"
    }
   },
   "outputs": [],
   "source": [
    "%%R -i boot_1\n",
    "theme_set(theme_bw())\n",
    "\n",
    "ggplot(boot_1)+\n",
    "    geom_density(aes(gate_30), color = 'orange')+\n",
    "    geom_density(aes(gate_40), color = 'blue')\n"
   ]
  },
  {
   "cell_type": "code",
   "execution_count": null,
   "metadata": {
    "ExecuteTime": {
     "start_time": "2019-10-12T16:36:32.843Z"
    }
   },
   "outputs": [],
   "source": [
    "# Calculate the difference between 2 A/B Groups after boostraping\n",
    "boot_1['diff'] = (boot_1.gate_30 - boot_1.gate_40)/boot_1.gate_40*100\n",
    "\n",
    "# Probability that retention of gate 30 is higher than gate 40:\n",
    "print(r'Probability that retention of gate 30 is higher than gate 40) is: ', (boot_1['diff'] > 0).mean()*100, '%')"
   ]
  },
  {
   "cell_type": "code",
   "execution_count": null,
   "metadata": {
    "ExecuteTime": {
     "start_time": "2019-10-12T16:36:32.845Z"
    }
   },
   "outputs": [],
   "source": [
    "%%R -i boot_1\n",
    "theme_set(theme_bw())\n",
    "library(DataExplorer)\n",
    "\n",
    "plot_histogram(boot_1$diff)"
   ]
  },
  {
   "cell_type": "markdown",
   "metadata": {
    "ExecuteTime": {
     "end_time": "2019-10-12T16:24:16.240392Z",
     "start_time": "2019-10-12T16:24:16.232199Z"
    }
   },
   "source": [
    "### Boostrap resampling  retention day 7"
   ]
  },
  {
   "cell_type": "code",
   "execution_count": null,
   "metadata": {
    "ExecuteTime": {
     "start_time": "2019-10-12T16:36:32.846Z"
    }
   },
   "outputs": [],
   "source": [
    "# Creating a list with bootstrapped means for each AB-group (i.e. game version)\n",
    "boot_7 = []\n",
    "for i in range(5000):\n",
    "    boot_mean = df.sample(frac = 0.3, replace = True).groupby('version')['retention_1'].mean()\n",
    "    boot_7.append(boot_mean)\n",
    "    \n",
    "# Transforming the list to a DataFrame\n",
    "boot_7 = pd.DataFrame(boot_7)"
   ]
  },
  {
   "cell_type": "code",
   "execution_count": null,
   "metadata": {
    "ExecuteTime": {
     "start_time": "2019-10-12T16:36:32.848Z"
    }
   },
   "outputs": [],
   "source": [
    "%%R -i boot_7\n",
    "theme_set(theme_bw())\n",
    "\n",
    "ggplot(boot_7)+\n",
    "    geom_density(aes(gate_30), color = 'orange')+\n",
    "    geom_density(aes(gate_40), color = 'blue')\n"
   ]
  },
  {
   "cell_type": "code",
   "execution_count": null,
   "metadata": {
    "ExecuteTime": {
     "start_time": "2019-10-12T16:36:32.850Z"
    }
   },
   "outputs": [],
   "source": [
    "# Calculate the difference between 2 A/B Groups after boostraping\n",
    "boot_7['diff'] = (boot_7.gate_30 - boot_7.gate_40)/boot_7.gate_40*100\n",
    "\n",
    "# Probability that retention of gate 30 is higher than gate 40:\n",
    "print(r'Probability that retention of gate 30 is higher than gate 40) is: ', (boot_7['diff'] > 0).mean()*100, '%')"
   ]
  },
  {
   "cell_type": "markdown",
   "metadata": {},
   "source": [
    "## Conclusion\n",
    "\n",
    "Based on the boostrap results, the rentention rate of both day 1 and dat 7 are higher in gate 30 than 40.\n",
    "It is highly recommend that we should not move the gate from level 30 to level 40"
   ]
  },
  {
   "cell_type": "code",
   "execution_count": null,
   "metadata": {},
   "outputs": [],
   "source": []
  }
 ],
 "metadata": {
  "kernelspec": {
   "display_name": "Python 3",
   "language": "python",
   "name": "python3"
  },
  "language_info": {
   "codemirror_mode": {
    "name": "ipython",
    "version": 3
   },
   "file_extension": ".py",
   "mimetype": "text/x-python",
   "name": "python",
   "nbconvert_exporter": "python",
   "pygments_lexer": "ipython3",
   "version": "3.7.3"
  },
  "toc": {
   "base_numbering": 1,
   "nav_menu": {},
   "number_sections": true,
   "sideBar": true,
   "skip_h1_title": false,
   "title_cell": "Table of Contents",
   "title_sidebar": "Contents",
   "toc_cell": false,
   "toc_position": {},
   "toc_section_display": true,
   "toc_window_display": false
  }
 },
 "nbformat": 4,
 "nbformat_minor": 2
}
